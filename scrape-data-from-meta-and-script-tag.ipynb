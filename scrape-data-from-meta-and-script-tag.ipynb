{
 "cells": [
  {
   "cell_type": "markdown",
   "id": "fe981eff",
   "metadata": {},
   "source": [
    "# scrape-data-from-meta-and-script-tag"
   ]
  },
  {
   "cell_type": "code",
   "execution_count": 3,
   "id": "71fcd496",
   "metadata": {},
   "outputs": [],
   "source": [
    "import requests\n",
    "from bs4 import BeautifulSoup\n",
    "import pandas as pd\n",
    "import json"
   ]
  },
  {
   "cell_type": "code",
   "execution_count": 4,
   "id": "3b2ded26",
   "metadata": {},
   "outputs": [],
   "source": [
    "headers = {'User-Agent': 'Mozilla/5.0 AppleWebKit/537.36 (KHTML, like Gecko; compatible; Googlebot/2.1; +http://www.google.com/bot.html) Chrome/104.0.5112.101 Safari/537.36'}"
   ]
  },
  {
   "cell_type": "code",
   "execution_count": 5,
   "id": "35fed95b",
   "metadata": {},
   "outputs": [],
   "source": [
    "#opening the saved page\n",
    "with open('tottus.htm', 'rb') as f:\n",
    "    soup = BeautifulSoup(f.read(), 'lxml')"
   ]
  },
  {
   "cell_type": "markdown",
   "id": "0649ebfa",
   "metadata": {},
   "source": [
    "## Scraping the meta tags"
   ]
  },
  {
   "cell_type": "code",
   "execution_count": 6,
   "id": "9cc00e0f",
   "metadata": {},
   "outputs": [],
   "source": [
    "metatags = soup.find_all('meta')"
   ]
  },
  {
   "cell_type": "code",
   "execution_count": 8,
   "id": "3181561f",
   "metadata": {},
   "outputs": [],
   "source": [
    "# metatags"
   ]
  },
  {
   "cell_type": "code",
   "execution_count": 9,
   "id": "1a8aeed8",
   "metadata": {},
   "outputs": [],
   "source": [
    "\n",
    "product_name = []\n",
    "p_content = []\n",
    "\n",
    "pname =metatags[0]['name']\n",
    "product_name.append(pname)\n",
    "\n",
    "pcontent =metatags[0]['content']\n",
    "p_content.append(pcontent)\n",
    "\n",
    "pname =metatags[1]['name']\n",
    "product_name.append(pname)\n",
    "\n",
    "pcontent =metatags[1]['content']\n",
    "p_content.append(pcontent)\n",
    "\n",
    "pname =metatags[2]['name']\n",
    "product_name.append(pname)\n",
    "\n",
    "pcontent =metatags[2]['content']\n",
    "p_content.append(pcontent)\n",
    "\n",
    "\n",
    "pname =metatags[6]['name']\n",
    "product_name.append(pname)\n",
    "\n",
    "pcontent =metatags[6]['content']\n",
    "p_content.append(pcontent)\n",
    "\n",
    "pname =metatags[7]['name']\n",
    "product_name.append(pname)\n",
    "\n",
    "pcontent =metatags[7]['content']\n",
    "p_content.append(pcontent)\n",
    "\n",
    "pname =metatags[8]['name']\n",
    "product_name.append(pname)\n",
    "\n",
    "pcontent =metatags[8]['content']\n",
    "p_content.append(pcontent)\n",
    "\n",
    "pname =metatags[9]['name']\n",
    "product_name.append(pname)\n",
    "\n",
    "pcontent =metatags[9]['content']\n",
    "p_content.append(pcontent)\n",
    "\n",
    "\n",
    "pname =metatags[10]['name']\n",
    "product_name.append(pname)\n",
    "\n",
    "pcontent =metatags[10]['content']\n",
    "p_content.append(pcontent)\n",
    "\n",
    "pname =metatags[11]['name']\n",
    "product_name.append(pname)\n",
    "\n",
    "pcontent =metatags[11]['content']\n",
    "p_content.append(pcontent)\n",
    "\n",
    "\n",
    "pname =metatags[12]['name']\n",
    "product_name.append(pname)\n",
    "\n",
    "pcontent =metatags[12]['content']\n",
    "p_content.append(pcontent)\n",
    "\n"
   ]
  },
  {
   "cell_type": "code",
   "execution_count": 10,
   "id": "7cf39da4",
   "metadata": {},
   "outputs": [],
   "source": [
    "prod_dict = {\n",
    "    'keys':product_name,\n",
    "    'values':p_content\n",
    "}"
   ]
  },
  {
   "cell_type": "code",
   "execution_count": 12,
   "id": "9548c77c",
   "metadata": {},
   "outputs": [
    {
     "data": {
      "text/html": [
       "<div>\n",
       "<style scoped>\n",
       "    .dataframe tbody tr th:only-of-type {\n",
       "        vertical-align: middle;\n",
       "    }\n",
       "\n",
       "    .dataframe tbody tr th {\n",
       "        vertical-align: top;\n",
       "    }\n",
       "\n",
       "    .dataframe thead th {\n",
       "        text-align: right;\n",
       "    }\n",
       "</style>\n",
       "<table border=\"1\" class=\"dataframe\">\n",
       "  <thead>\n",
       "    <tr style=\"text-align: right;\">\n",
       "      <th></th>\n",
       "      <th>keys</th>\n",
       "      <th>values</th>\n",
       "    </tr>\n",
       "  </thead>\n",
       "  <tbody>\n",
       "    <tr>\n",
       "      <th>0</th>\n",
       "      <td>og:locale</td>\n",
       "      <td>es_PE</td>\n",
       "    </tr>\n",
       "    <tr>\n",
       "      <th>1</th>\n",
       "      <td>google-site-verification</td>\n",
       "      <td>Mf_JnDHhp8oovGfZuVeppt93dh5kLJgI7OaPBTeViWY</td>\n",
       "    </tr>\n",
       "    <tr>\n",
       "      <th>2</th>\n",
       "      <td>facebook-domain-verification</td>\n",
       "      <td>2l3b8arzpdxoq5hta6kczes4rcngud</td>\n",
       "    </tr>\n",
       "    <tr>\n",
       "      <th>3</th>\n",
       "      <td>description</td>\n",
       "      <td>Aceite Vegetal Primor Premium 900 mL</td>\n",
       "    </tr>\n",
       "    <tr>\n",
       "      <th>4</th>\n",
       "      <td>og:title</td>\n",
       "      <td>Aceite Vegetal Primor Premium 900 mL</td>\n",
       "    </tr>\n",
       "    <tr>\n",
       "      <th>5</th>\n",
       "      <td>og:description</td>\n",
       "      <td>Aceite Vegetal Primor Premium 900 mL</td>\n",
       "    </tr>\n",
       "    <tr>\n",
       "      <th>6</th>\n",
       "      <td>og:image</td>\n",
       "      <td>https://e39a9f00db6c5bc097f9-75bc5dce1d64f9337...</td>\n",
       "    </tr>\n",
       "    <tr>\n",
       "      <th>7</th>\n",
       "      <td>viewport</td>\n",
       "      <td>width=device-width, initial-scale=1.0, viewpor...</td>\n",
       "    </tr>\n",
       "    <tr>\n",
       "      <th>8</th>\n",
       "      <td>og:url</td>\n",
       "      <td>https://www.tottus.com.pe/primor-aceite-vegeta...</td>\n",
       "    </tr>\n",
       "    <tr>\n",
       "      <th>9</th>\n",
       "      <td>next-head-count</td>\n",
       "      <td>11</td>\n",
       "    </tr>\n",
       "  </tbody>\n",
       "</table>\n",
       "</div>"
      ],
      "text/plain": [
       "                           keys  \\\n",
       "0                     og:locale   \n",
       "1      google-site-verification   \n",
       "2  facebook-domain-verification   \n",
       "3                   description   \n",
       "4                      og:title   \n",
       "5                og:description   \n",
       "6                      og:image   \n",
       "7                      viewport   \n",
       "8                        og:url   \n",
       "9               next-head-count   \n",
       "\n",
       "                                              values  \n",
       "0                                              es_PE  \n",
       "1        Mf_JnDHhp8oovGfZuVeppt93dh5kLJgI7OaPBTeViWY  \n",
       "2                     2l3b8arzpdxoq5hta6kczes4rcngud  \n",
       "3               Aceite Vegetal Primor Premium 900 mL  \n",
       "4               Aceite Vegetal Primor Premium 900 mL  \n",
       "5               Aceite Vegetal Primor Premium 900 mL  \n",
       "6  https://e39a9f00db6c5bc097f9-75bc5dce1d64f9337...  \n",
       "7  width=device-width, initial-scale=1.0, viewpor...  \n",
       "8  https://www.tottus.com.pe/primor-aceite-vegeta...  \n",
       "9                                                 11  "
      ]
     },
     "execution_count": 12,
     "metadata": {},
     "output_type": "execute_result"
    }
   ],
   "source": [
    "df_meta =pd.DataFrame(prod_dict)\n",
    "df_meta"
   ]
  },
  {
   "cell_type": "markdown",
   "id": "fb14cd05",
   "metadata": {},
   "source": [
    "## Scraping data from script  tags"
   ]
  },
  {
   "cell_type": "code",
   "execution_count": 15,
   "id": "e1ca77ad",
   "metadata": {},
   "outputs": [],
   "source": [
    "scripts =soup.find_all('script')"
   ]
  },
  {
   "cell_type": "code",
   "execution_count": 16,
   "id": "1375abc4",
   "metadata": {},
   "outputs": [],
   "source": [
    "data =scripts[15].text.replace('\\r\\n', '')"
   ]
  },
  {
   "cell_type": "code",
   "execution_count": 17,
   "id": "44c2a46a",
   "metadata": {},
   "outputs": [
    {
     "data": {
      "text/plain": [
       "'{  \"@type\": \"Product\",  \"name\": \"Aceite Vegetal Primor Premium 900 mL\",  \"image\": [    \"https://e39a9f00db6c5bc097f9-75bc5dce1d64f93372e7c97ed35869cb.ssl.cf1.rackcdn.com/42757359_1-HmHItV7l.jpg\",    \"https://e39a9f00db6c5bc097f9-75bc5dce1d64f93372e7c97ed35869cb.ssl.cf1.rackcdn.com/42757359-7GhlDHOt.jpg\"  ],  \"description\": \"Aceite Vegetal Primor Premium 900 mL\",  \"sku\": \"42757359\",  \"offers\": {    \"itemCondition\": \"https://schema.org/NewCondition\",    \"availability\": \"https://schema.org/InStock\",    \"priceCurrency\": \"PEN\",    \"seller\": {      \"@type\": \"Organization\",      \"name\": \"Tottus\"    },    \"@type\": \"Offer\",    \"price\": 11.5  },  \"brand\": {    \"@type\": \"Thing\",    \"name\": \"primor\"  },  \"@context\": \"https://schema.org/\"}'"
      ]
     },
     "execution_count": 17,
     "metadata": {},
     "output_type": "execute_result"
    }
   ],
   "source": [
    "data"
   ]
  },
  {
   "cell_type": "markdown",
   "id": "b37b47cd",
   "metadata": {},
   "source": [
    "### converting data into Json"
   ]
  },
  {
   "cell_type": "code",
   "execution_count": 18,
   "id": "8d372641",
   "metadata": {},
   "outputs": [
    {
     "data": {
      "text/plain": [
       "{'@type': 'Product',\n",
       " 'name': 'Aceite Vegetal Primor Premium 900 mL',\n",
       " 'image': ['https://e39a9f00db6c5bc097f9-75bc5dce1d64f93372e7c97ed35869cb.ssl.cf1.rackcdn.com/42757359_1-HmHItV7l.jpg',\n",
       "  'https://e39a9f00db6c5bc097f9-75bc5dce1d64f93372e7c97ed35869cb.ssl.cf1.rackcdn.com/42757359-7GhlDHOt.jpg'],\n",
       " 'description': 'Aceite Vegetal Primor Premium 900 mL',\n",
       " 'sku': '42757359',\n",
       " 'offers': {'itemCondition': 'https://schema.org/NewCondition',\n",
       "  'availability': 'https://schema.org/InStock',\n",
       "  'priceCurrency': 'PEN',\n",
       "  'seller': {'@type': 'Organization', 'name': 'Tottus'},\n",
       "  '@type': 'Offer',\n",
       "  'price': 11.5},\n",
       " 'brand': {'@type': 'Thing', 'name': 'primor'},\n",
       " '@context': 'https://schema.org/'}"
      ]
     },
     "execution_count": 18,
     "metadata": {},
     "output_type": "execute_result"
    }
   ],
   "source": [
    "json.loads(data)"
   ]
  },
  {
   "cell_type": "code",
   "execution_count": 19,
   "id": "1e44210f",
   "metadata": {},
   "outputs": [],
   "source": [
    "dict_data = json.loads(data)"
   ]
  },
  {
   "cell_type": "markdown",
   "id": "e9dadcaf",
   "metadata": {},
   "source": [
    "#### get keys from dictionary"
   ]
  },
  {
   "cell_type": "code",
   "execution_count": 20,
   "id": "43c414c6",
   "metadata": {},
   "outputs": [
    {
     "data": {
      "text/plain": [
       "dict_keys(['@type', 'name', 'image', 'description', 'sku', 'offers', 'brand', '@context'])"
      ]
     },
     "execution_count": 20,
     "metadata": {},
     "output_type": "execute_result"
    }
   ],
   "source": [
    "dict_data.keys()"
   ]
  },
  {
   "cell_type": "markdown",
   "id": "5b3d0a1b",
   "metadata": {},
   "source": [
    "#### get values from dictionary"
   ]
  },
  {
   "cell_type": "code",
   "execution_count": 21,
   "id": "908ce9f8",
   "metadata": {},
   "outputs": [
    {
     "data": {
      "text/plain": [
       "dict_values(['Product', 'Aceite Vegetal Primor Premium 900 mL', ['https://e39a9f00db6c5bc097f9-75bc5dce1d64f93372e7c97ed35869cb.ssl.cf1.rackcdn.com/42757359_1-HmHItV7l.jpg', 'https://e39a9f00db6c5bc097f9-75bc5dce1d64f93372e7c97ed35869cb.ssl.cf1.rackcdn.com/42757359-7GhlDHOt.jpg'], 'Aceite Vegetal Primor Premium 900 mL', '42757359', {'itemCondition': 'https://schema.org/NewCondition', 'availability': 'https://schema.org/InStock', 'priceCurrency': 'PEN', 'seller': {'@type': 'Organization', 'name': 'Tottus'}, '@type': 'Offer', 'price': 11.5}, {'@type': 'Thing', 'name': 'primor'}, 'https://schema.org/'])"
      ]
     },
     "execution_count": 21,
     "metadata": {},
     "output_type": "execute_result"
    }
   ],
   "source": [
    "dict_data.values()"
   ]
  },
  {
   "cell_type": "code",
   "execution_count": 22,
   "id": "6c08df80",
   "metadata": {},
   "outputs": [],
   "source": [
    "new_dict = {\n",
    "    'keys':dict_data.keys(),\n",
    "    'values':dict_data.values()\n",
    "}"
   ]
  },
  {
   "cell_type": "code",
   "execution_count": 23,
   "id": "39da2ae8",
   "metadata": {},
   "outputs": [],
   "source": [
    "df = pd.DataFrame(new_dict)"
   ]
  },
  {
   "cell_type": "code",
   "execution_count": 24,
   "id": "1048ff04",
   "metadata": {},
   "outputs": [
    {
     "data": {
      "text/html": [
       "<div>\n",
       "<style scoped>\n",
       "    .dataframe tbody tr th:only-of-type {\n",
       "        vertical-align: middle;\n",
       "    }\n",
       "\n",
       "    .dataframe tbody tr th {\n",
       "        vertical-align: top;\n",
       "    }\n",
       "\n",
       "    .dataframe thead th {\n",
       "        text-align: right;\n",
       "    }\n",
       "</style>\n",
       "<table border=\"1\" class=\"dataframe\">\n",
       "  <thead>\n",
       "    <tr style=\"text-align: right;\">\n",
       "      <th></th>\n",
       "      <th>keys</th>\n",
       "      <th>values</th>\n",
       "    </tr>\n",
       "  </thead>\n",
       "  <tbody>\n",
       "    <tr>\n",
       "      <th>0</th>\n",
       "      <td>@type</td>\n",
       "      <td>Product</td>\n",
       "    </tr>\n",
       "    <tr>\n",
       "      <th>1</th>\n",
       "      <td>name</td>\n",
       "      <td>Aceite Vegetal Primor Premium 900 mL</td>\n",
       "    </tr>\n",
       "    <tr>\n",
       "      <th>2</th>\n",
       "      <td>image</td>\n",
       "      <td>[https://e39a9f00db6c5bc097f9-75bc5dce1d64f933...</td>\n",
       "    </tr>\n",
       "    <tr>\n",
       "      <th>3</th>\n",
       "      <td>description</td>\n",
       "      <td>Aceite Vegetal Primor Premium 900 mL</td>\n",
       "    </tr>\n",
       "    <tr>\n",
       "      <th>4</th>\n",
       "      <td>sku</td>\n",
       "      <td>42757359</td>\n",
       "    </tr>\n",
       "    <tr>\n",
       "      <th>5</th>\n",
       "      <td>offers</td>\n",
       "      <td>{'itemCondition': 'https://schema.org/NewCondi...</td>\n",
       "    </tr>\n",
       "    <tr>\n",
       "      <th>6</th>\n",
       "      <td>brand</td>\n",
       "      <td>{'@type': 'Thing', 'name': 'primor'}</td>\n",
       "    </tr>\n",
       "    <tr>\n",
       "      <th>7</th>\n",
       "      <td>@context</td>\n",
       "      <td>https://schema.org/</td>\n",
       "    </tr>\n",
       "  </tbody>\n",
       "</table>\n",
       "</div>"
      ],
      "text/plain": [
       "          keys                                             values\n",
       "0        @type                                            Product\n",
       "1         name               Aceite Vegetal Primor Premium 900 mL\n",
       "2        image  [https://e39a9f00db6c5bc097f9-75bc5dce1d64f933...\n",
       "3  description               Aceite Vegetal Primor Premium 900 mL\n",
       "4          sku                                           42757359\n",
       "5       offers  {'itemCondition': 'https://schema.org/NewCondi...\n",
       "6        brand               {'@type': 'Thing', 'name': 'primor'}\n",
       "7     @context                                https://schema.org/"
      ]
     },
     "execution_count": 24,
     "metadata": {},
     "output_type": "execute_result"
    }
   ],
   "source": [
    "df"
   ]
  },
  {
   "cell_type": "markdown",
   "id": "44f6ccef",
   "metadata": {},
   "source": [
    "#### get the value from 2nd row of DataFrame"
   ]
  },
  {
   "cell_type": "code",
   "execution_count": 25,
   "id": "9e34fd81",
   "metadata": {},
   "outputs": [
    {
     "data": {
      "text/plain": [
       "['https://e39a9f00db6c5bc097f9-75bc5dce1d64f93372e7c97ed35869cb.ssl.cf1.rackcdn.com/42757359_1-HmHItV7l.jpg',\n",
       " 'https://e39a9f00db6c5bc097f9-75bc5dce1d64f93372e7c97ed35869cb.ssl.cf1.rackcdn.com/42757359-7GhlDHOt.jpg']"
      ]
     },
     "execution_count": 25,
     "metadata": {},
     "output_type": "execute_result"
    }
   ],
   "source": [
    "df['values'][2]"
   ]
  },
  {
   "cell_type": "code",
   "execution_count": 31,
   "id": "73ee4227",
   "metadata": {},
   "outputs": [
    {
     "data": {
      "text/plain": [
       "'https://e39a9f00db6c5bc097f9-75bc5dce1d64f93372e7c97ed35869cb.ssl.cf1.rackcdn.com/42757359-7GhlDHOt.jpg'"
      ]
     },
     "execution_count": 31,
     "metadata": {},
     "output_type": "execute_result"
    }
   ],
   "source": [
    "#get the 2nd url from above list\n",
    "df['values'][2][1]"
   ]
  },
  {
   "cell_type": "code",
   "execution_count": 1,
   "id": "82c00d5e",
   "metadata": {},
   "outputs": [],
   "source": [
    "!pip install jovian --upgrade --quiet\n",
    "import jovian"
   ]
  },
  {
   "cell_type": "code",
   "execution_count": null,
   "id": "caf3dcb6",
   "metadata": {},
   "outputs": [
    {
     "data": {
      "application/javascript": [
       "window.require && require([\"base/js/namespace\"],function(Jupyter){Jupyter.notebook.save_checkpoint()})"
      ],
      "text/plain": [
       "<IPython.core.display.Javascript object>"
      ]
     },
     "metadata": {},
     "output_type": "display_data"
    }
   ],
   "source": [
    "# Execute this to save new versions of the notebook\n",
    "jovian.commit(project=\"scrape-data-from-meta-and-script-tag\")"
   ]
  },
  {
   "cell_type": "code",
   "execution_count": null,
   "id": "1a9137ba",
   "metadata": {},
   "outputs": [],
   "source": []
  }
 ],
 "metadata": {
  "language_info": {
   "codemirror_mode": {
    "name": "ipython",
    "version": 3
   },
   "file_extension": ".py",
   "mimetype": "text/x-python",
   "name": "python",
   "nbconvert_exporter": "python",
   "pygments_lexer": "ipython3",
   "version": "3.9.6"
  }
 },
 "nbformat": 4,
 "nbformat_minor": 5
}